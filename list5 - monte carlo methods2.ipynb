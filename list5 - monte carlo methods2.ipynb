{
 "cells": [
  {
   "cell_type": "markdown",
   "id": "3337806e-e454-4f44-a534-d71c3b2ed53c",
   "metadata": {},
   "source": [
    "### Problem 1 - solve the volume of a circle in $R^{10}$ using the monte carlo for high dimentions"
   ]
  },
  {
   "cell_type": "code",
   "execution_count": 2,
   "id": "174beaa5-549b-485a-b306-81b8b6dbd60a",
   "metadata": {},
   "outputs": [],
   "source": [
    "import matplotlib.pyplot as plt\n",
    "import numpy as np\n",
    "from random import random, randrange"
   ]
  },
  {
   "cell_type": "code",
   "execution_count": 3,
   "id": "aa7d93b6-904c-4c37-a7d9-2353f7917954",
   "metadata": {},
   "outputs": [],
   "source": [
    "def circle(array):\n",
    "\n",
    "    sum_square = 0\n",
    "    for value in array:\n",
    "        sum_square += value**2\n",
    "        \n",
    "    if sum_square <= 1:\n",
    "        return 1\n",
    "    else:\n",
    "        return 0"
   ]
  },
  {
   "cell_type": "code",
   "execution_count": 4,
   "id": "7f294569-837f-4f3e-b642-153b56c65c9a",
   "metadata": {},
   "outputs": [
    {
     "name": "stdout",
     "output_type": "stream",
     "text": [
      "2.625536\n"
     ]
    }
   ],
   "source": [
    "N = 1000000\n",
    "\n",
    "array = np.zeros(10)\n",
    "V = 2**len(array)\n",
    "\n",
    "count = 0\n",
    "\n",
    "for i in range(N):\n",
    "    for j in range(len(array)):\n",
    "        array[j] = random()\n",
    "        \n",
    "    count += circle(array)\n",
    "    I = V*count/N\n",
    "    \n",
    "print(I)"
   ]
  },
  {
   "cell_type": "markdown",
   "id": "c559d713-cb54-4c38-8662-418435077461",
   "metadata": {},
   "source": [
    "### Problem 2 - integral calculation using the probability distribution"
   ]
  },
  {
   "cell_type": "markdown",
   "id": "82be566e-7e23-4052-9102-63d7c3d82319",
   "metadata": {},
   "source": [
    "Alternative **a)** We will derive the expression for probability $p(x)$ and $I$. "
   ]
  },
  {
   "cell_type": "markdown",
   "id": "f3ffea47-eafc-4bc8-866d-0ef804d801d7",
   "metadata": {},
   "source": [
    "We two equations from Newman,\n",
    "\n",
    "$$ \\sum\\limits_{i=1}^{N} g(x_{i}) \\approx \\int_{a}^{b} Np(x)g(x)dx \\tag{1}, $$\n",
    "\n",
    "$$ \\langle g \\rangle_{w} = \\int_{a}^{b}w(x)g(x)dx / \\int_{a}^{b}w(x)dx \\tag{2}. $$"
   ]
  },
  {
   "cell_type": "markdown",
   "id": "bc074141-0ddf-460e-93a7-247f72e15895",
   "metadata": {},
   "source": [
    "First we'll show that the distribuition probability $p(x) = 1/2\\sqrt{x}$,"
   ]
  },
  {
   "cell_type": "markdown",
   "id": "1ed9de9c-384a-4f1b-9cf9-58c6a2e22fca",
   "metadata": {},
   "source": [
    "$$ p(x) = \\frac{w(x)}{\\int_{a}^{b} w(x)dx} = \\frac{x^{-1/2}}{\\int_{0}^{1} x^{-1/2}dx} = \\frac{1}{2\\sqrt{x}}. \\tag{3}$$"
   ]
  },
  {
   "cell_type": "markdown",
   "id": "5ce1439b-957e-4a7e-a392-963e29d87481",
   "metadata": {},
   "source": [
    "Now we'll divide (1) for N and use the $p(x)$ value in (3),"
   ]
  },
  {
   "cell_type": "markdown",
   "id": "84d07361-f906-401f-965f-a9c215d10d67",
   "metadata": {},
   "source": [
    "$$ \\langle g \\rangle_{w} = \\int_{a}^{b}p(x)g(x)dx \\approx \\frac{1}{N} \\sum\\limits_{i=1}^{N} g(x_{i}). \\tag{4}$$"
   ]
  },
  {
   "cell_type": "markdown",
   "id": "330cb7f6-6d0c-4870-86fc-0b7339a10dff",
   "metadata": {},
   "source": [
    "Now using that $ I = \\langle g \\rangle_{w} \\int_{a}^{b} w(x)dx$, we have"
   ]
  },
  {
   "cell_type": "markdown",
   "id": "b7f3a409-13b0-4145-a189-74851fb275d2",
   "metadata": {},
   "source": [
    "$$ I \\approx \\frac{1}{N} \\sum\\limits_{i=1}^{N} \\frac{f(x_{i})}{w(x_{i})} \\int_{a}^{b} w(x)dx. \\tag{5}$$"
   ]
  },
  {
   "cell_type": "markdown",
   "id": "5ff901d5-dfb3-4a13-923d-305b92ff62bc",
   "metadata": {},
   "source": [
    "Alternative **b) Now we'll calculate our values."
   ]
  },
  {
   "cell_type": "markdown",
   "id": "4747b6b1-a74d-4c30-9a52-17dc128cb3cd",
   "metadata": {},
   "source": [
    "We know our integral in (5), because $w(x) = x^{-1/2}$, so the integral is 2 in **[0, 1]** limits."
   ]
  },
  {
   "cell_type": "code",
   "execution_count": 16,
   "id": "5a8b8831-8d88-4899-84f1-2b1457f2758c",
   "metadata": {},
   "outputs": [],
   "source": [
    "def f(x):\n",
    "    return (x**(-1/2))/(np.exp(x)+1)\n",
    "def w(x):\n",
    "    return x**(-0.5)"
   ]
  },
  {
   "cell_type": "code",
   "execution_count": 17,
   "id": "c409589f-2f9e-4580-9e3a-23040273fa39",
   "metadata": {},
   "outputs": [
    {
     "data": {
      "text/plain": [
       "0.8389324585349115"
      ]
     },
     "execution_count": 17,
     "metadata": {},
     "output_type": "execute_result"
    }
   ],
   "source": [
    "N = 1000000\n",
    "\n",
    "I = 0\n",
    "for i in range(N):\n",
    "    x = random()**2\n",
    "    I += (f(x)/w(x))*(2/N)\n",
    "    \n",
    "I"
   ]
  },
  {
   "cell_type": "markdown",
   "id": "441af8c4-597a-4d9a-8b2d-11bc5c5a4065",
   "metadata": {},
   "source": [
    "### Problem 3 - The Ising model"
   ]
  },
  {
   "cell_type": "markdown",
   "id": "4fc970c6-f571-4311-bd35-6552c5df059f",
   "metadata": {},
   "source": [
    "Alternative **a)** create a function that calculate the spins interation"
   ]
  },
  {
   "cell_type": "code",
   "execution_count": 20,
   "id": "86c717b4-c438-4aac-9fab-f7b0b45d5ab8",
   "metadata": {},
   "outputs": [],
   "source": [
    "def energy_spins(spins, J=1):\n",
    "    side = len(spins[0])\n",
    "    energy = 0\n",
    "\n",
    "    n, m = spins.shape\n",
    "    \n",
    "    for i in range(n):\n",
    "        for j in range(m):\n",
    "            if i < n - 1:        # multiplicando com spins de cima\n",
    "                energy += spins[i, j] * spins[i + 1, j]\n",
    "            if i > 0:            # multiplicando com spins de baixo\n",
    "                energy += spins[i, j] * spins[i - 1, j]\n",
    "            if j < m - 1:        # multiplicando com spins da direita\n",
    "                energy += spins[i, j] * spins[i, j + 1]\n",
    "            if j > 0:            # multiplicando com spins da esquerda\n",
    "                energy += spins[i, j] * spins[i, j - 1]\n",
    "                \n",
    "    return -J*energy"
   ]
  },
  {
   "cell_type": "markdown",
   "id": "dfd532cd-7bbc-4ed5-afa9-dee0870a1b64",
   "metadata": {},
   "source": [
    "Alternative **b)** create spins matrix and modify spins to modify energy"
   ]
  },
  {
   "cell_type": "markdown",
   "id": "ccd7e522-3eec-47f1-9f7b-1bbf41027d37",
   "metadata": {},
   "source": [
    "First we'll create a function that modify a seed while have mean value different of 0 in spins from matrix"
   ]
  },
  {
   "cell_type": "code",
   "execution_count": 23,
   "id": "1c25f616-9188-473e-a0d6-04039c0192c7",
   "metadata": {},
   "outputs": [],
   "source": [
    "def seed_func():\n",
    "\n",
    "    mean_value_spins = 0\n",
    "    seed = 30\n",
    "    sum = 1\n",
    "    \n",
    "    while sum != mean_value_spins:\n",
    "        sum = 0\n",
    "        seed += 1\n",
    "        np.random.seed(seed)\n",
    "        spins = np.random.choice([-1, 1], size=(20, 20))\n",
    "\n",
    "        for i in range(20):\n",
    "            for j in range(20):\n",
    "                sum += spins[i, j]\n",
    "    return spins"
   ]
  },
  {
   "cell_type": "code",
   "execution_count": 24,
   "id": "a4e88d5b-f015-477a-aa53-92f5c0176b11",
   "metadata": {
    "scrolled": true
   },
   "outputs": [
    {
     "name": "stdout",
     "output_type": "stream",
     "text": [
      "mean value spins = 0\n"
     ]
    }
   ],
   "source": [
    "spins = seed_func()\n",
    "print(f'mean value spins = {spins.sum()}')"
   ]
  },
  {
   "cell_type": "markdown",
   "id": "1ba8e401-5cfb-428e-aef3-372944ae18a1",
   "metadata": {},
   "source": [
    "Now choose random spins and modify it spin, verify energy using Metropolis acceptance formula"
   ]
  },
  {
   "cell_type": "code",
   "execution_count": 26,
   "id": "fdfb2853-d0de-4e33-8584-d77ead0f33f2",
   "metadata": {},
   "outputs": [],
   "source": [
    "spins = seed_func()\n",
    "\n",
    "Mag, Eneg = [], []\n",
    "N = 300000\n",
    "for i in range(N):\n",
    "\n",
    "    \n",
    "    x, y = randrange(0, 20), randrange(0, 20)\n",
    "\n",
    "    ei = energy_spins(spins)\n",
    "    spins[x, y] = -spins[x, y]\n",
    "    ej = energy_spins(spins)\n",
    "\n",
    "    dE = ej - ei\n",
    "    \n",
    "    beta = 1\n",
    "    rand = random()\n",
    "    p = np.exp(-beta*(abs(ej-ei)))\n",
    "\n",
    "    if dE > 0:\n",
    "        if rand > np.exp(-beta*dE):\n",
    "            spins[x, y] = -spins[x, y]\n",
    "    Eneg.append(ej)\n",
    "    Mag.append(np.sum(spins))"
   ]
  },
  {
   "cell_type": "code",
   "execution_count": 27,
   "id": "81942cbd-dc66-4871-90d9-c35d41742108",
   "metadata": {},
   "outputs": [
    {
     "data": {
      "image/png": "[encoded data removed]",
      "text/plain": [
       "<Figure size 1200x400 with 2 Axes>"
      ]
     },
     "metadata": {},
     "output_type": "display_data"
    }
   ],
   "source": [
    "fig, axs = plt.subplots(1, 2, figsize=(12, 4))\n",
    "\n",
    "axs[0].set_title('Mag X time')\n",
    "axs[0].set_ylabel('magniatization')\n",
    "axs[0].set_xlabel('time')\n",
    "axs[0].plot(Mag)\n",
    "\n",
    "axs[1].set_title('Energy X time')\n",
    "axs[1].set_ylabel('energy')\n",
    "axs[1].set_xlabel('time')\n",
    "axs[1].plot(Eneg)\n",
    "\n",
    "plt.show()"
   ]
  },
  {
   "cell_type": "markdown",
   "id": "ed2a57e6-2300-4549-a9b7-38f5f9dcd5db",
   "metadata": {},
   "source": [
    "### Problem 4 - Global minimum of a function"
   ]
  },
  {
   "cell_type": "markdown",
   "id": "553720e9-333b-4ce9-906f-62756c7ed602",
   "metadata": {},
   "source": [
    "Alternative **a)** Show that x value tends to 0"
   ]
  },
  {
   "cell_type": "code",
   "execution_count": 114,
   "id": "b1135d9b-5afb-474f-a2a3-cf9cebdc82f0",
   "metadata": {},
   "outputs": [],
   "source": [
    "def func4(x):\n",
    "    return (x**2)-np.cos(4*np.pi*x)\n",
    "\n",
    "def gaussian():\n",
    "    \n",
    "    sigma = 1\n",
    "    z = random()\n",
    "    theta = 2*np.pi*random()\n",
    "    r = sigma*np.sqrt(-2*np.log(1-z))\n",
    "    \n",
    "    return r*np.cos(theta)"
   ]
  },
  {
   "cell_type": "code",
   "execution_count": 116,
   "id": "2188fd9f-24f9-4308-a783-78c79f22a4c6",
   "metadata": {},
   "outputs": [
    {
     "name": "stdout",
     "output_type": "stream",
     "text": [
      "x value = 0.0004622174125654688\n"
     ]
    },
    {
     "data": {
      "image/png": "[encoded data removed]",
      "text/plain": [
       "<Figure size 640x480 with 1 Axes>"
      ]
     },
     "metadata": {},
     "output_type": "display_data"
    }
   ],
   "source": [
    "Tmax = 10\n",
    "Tmin = 1e-3\n",
    "tau = 1e4\n",
    "\n",
    "t, x = 0, 2\n",
    "T = Tmax\n",
    "\n",
    "list = []\n",
    "\n",
    "while T > Tmin:\n",
    "    t += 1\n",
    "    T = Tmax*np.exp(-t/tau)\n",
    "    \n",
    "    F_0 = func4(x)\n",
    "    delta =  gaussian()\n",
    "    x += delta\n",
    "    \n",
    "    df = func4(x) - F_0\n",
    "    \n",
    "    if df > 0:\n",
    "        if random() > np.exp(-df/T):\n",
    "            x -= delta\n",
    "            \n",
    "    list.append(x)\n",
    "    \n",
    "plt.plot(list)\n",
    "print(f'x value = {x}')"
   ]
  },
  {
   "cell_type": "markdown",
   "id": "d064a843-ccf0-46df-b8cd-9148494aae13",
   "metadata": {},
   "source": [
    "Alterntative **b)** Show that x tend to 16, or 2 our 42 sometimes"
   ]
  },
  {
   "cell_type": "code",
   "execution_count": 119,
   "id": "7da929d4-b58d-4b6e-ab86-abfd3e3ac016",
   "metadata": {},
   "outputs": [],
   "source": [
    "Tmax = 10\n",
    "Tmin = 1e-3\n",
    "tau = 1e4\n",
    "\n",
    "def func42(x):\n",
    "    return np.cos(x) + np.cos(x*np.sqrt(2)) + np.cos(x*np.sqrt(3))"
   ]
  },
  {
   "cell_type": "code",
   "execution_count": 123,
   "id": "fb5ee62b-35cf-4d82-912d-2faa6b753126",
   "metadata": {},
   "outputs": [
    {
     "name": "stdout",
     "output_type": "stream",
     "text": [
      "x value = 2.1660528467916116\n"
     ]
    },
    {
     "data": {
      "image/png": "[encoded data removed]",
      "text/plain": [
       "<Figure size 640x480 with 1 Axes>"
      ]
     },
     "metadata": {},
     "output_type": "display_data"
    }
   ],
   "source": [
    "list2 = []\n",
    "t, x = 0, 0\n",
    "T = Tmax\n",
    "\n",
    "while T > Tmin:\n",
    "    t += 1\n",
    "    T = Tmax*np.exp(-t/tau)\n",
    "    \n",
    "    F02 = func42(x)\n",
    "    delta =  gaussian()\n",
    "    \n",
    "    while (x + delta) > 50 or (x + delta) < 0:\n",
    "        delta = gaussian()\n",
    "        \n",
    "    x += delta\n",
    "    df = func42(x) - F02 \n",
    "    \n",
    "    if df > 0:\n",
    "        if random() > np.exp(-df/T):\n",
    "            x -= delta\n",
    "            \n",
    "    list2.append(x)\n",
    "    \n",
    "plt.plot(list2)\n",
    "print(f'x value = {x}')"
   ]
  },
  {
   "cell_type": "code",
   "execution_count": null,
   "id": "4509d2c6-cf1f-4a0a-9714-781392df0d0b",
   "metadata": {},
   "outputs": [],
   "source": []
  }
 ],
 "metadata": {
  "kernelspec": {
   "display_name": "Python 3 (ipykernel)",
   "language": "python",
   "name": "python3"
  },
  "language_info": {
   "codemirror_mode": {
    "name": "ipython",
    "version": 3
   },
   "file_extension": ".py",
   "mimetype": "text/x-python",
   "name": "python",
   "nbconvert_exporter": "python",
   "pygments_lexer": "ipython3",
   "version": "3.11.7"
  }
 },
 "nbformat": 4,
 "nbformat_minor": 5
}
